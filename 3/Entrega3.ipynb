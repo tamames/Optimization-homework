{
 "cells": [
  {
   "cell_type": "markdown",
   "metadata": {},
   "source": [
    "# Homework 3\n",
    "Classification of species using SVM"
   ]
  },
  {
   "cell_type": "code",
   "execution_count": 99,
   "metadata": {},
   "outputs": [],
   "source": [
    "import pandas as pd\n",
    "import numpy as np\n",
    "import numpy.linalg as npl\n",
    "import matplotlib.pyplot as plt"
   ]
  },
  {
   "cell_type": "markdown",
   "metadata": {},
   "source": [
    "## Analysis of the dataset\n",
    "\n",
    "We first impor the well know dataset. "
   ]
  },
  {
   "cell_type": "code",
   "execution_count": 100,
   "metadata": {},
   "outputs": [
    {
     "data": {
      "text/html": [
       "<div>\n",
       "<style scoped>\n",
       "    .dataframe tbody tr th:only-of-type {\n",
       "        vertical-align: middle;\n",
       "    }\n",
       "\n",
       "    .dataframe tbody tr th {\n",
       "        vertical-align: top;\n",
       "    }\n",
       "\n",
       "    .dataframe thead th {\n",
       "        text-align: right;\n",
       "    }\n",
       "</style>\n",
       "<table border=\"1\" class=\"dataframe\">\n",
       "  <thead>\n",
       "    <tr style=\"text-align: right;\">\n",
       "      <th></th>\n",
       "      <th>sepal_length</th>\n",
       "      <th>sepal_width</th>\n",
       "      <th>petal_length</th>\n",
       "      <th>petal_width</th>\n",
       "      <th>species</th>\n",
       "    </tr>\n",
       "  </thead>\n",
       "  <tbody>\n",
       "    <tr>\n",
       "      <th>0</th>\n",
       "      <td>4.9</td>\n",
       "      <td>3.0</td>\n",
       "      <td>1.4</td>\n",
       "      <td>0.2</td>\n",
       "      <td>Iris-setosa</td>\n",
       "    </tr>\n",
       "    <tr>\n",
       "      <th>1</th>\n",
       "      <td>4.7</td>\n",
       "      <td>3.2</td>\n",
       "      <td>1.3</td>\n",
       "      <td>0.2</td>\n",
       "      <td>Iris-setosa</td>\n",
       "    </tr>\n",
       "    <tr>\n",
       "      <th>2</th>\n",
       "      <td>4.6</td>\n",
       "      <td>3.1</td>\n",
       "      <td>1.5</td>\n",
       "      <td>0.2</td>\n",
       "      <td>Iris-setosa</td>\n",
       "    </tr>\n",
       "    <tr>\n",
       "      <th>3</th>\n",
       "      <td>5.0</td>\n",
       "      <td>3.6</td>\n",
       "      <td>1.4</td>\n",
       "      <td>0.2</td>\n",
       "      <td>Iris-setosa</td>\n",
       "    </tr>\n",
       "    <tr>\n",
       "      <th>4</th>\n",
       "      <td>5.4</td>\n",
       "      <td>3.9</td>\n",
       "      <td>1.7</td>\n",
       "      <td>0.4</td>\n",
       "      <td>Iris-setosa</td>\n",
       "    </tr>\n",
       "    <tr>\n",
       "      <th>...</th>\n",
       "      <td>...</td>\n",
       "      <td>...</td>\n",
       "      <td>...</td>\n",
       "      <td>...</td>\n",
       "      <td>...</td>\n",
       "    </tr>\n",
       "    <tr>\n",
       "      <th>85</th>\n",
       "      <td>6.7</td>\n",
       "      <td>3.1</td>\n",
       "      <td>4.7</td>\n",
       "      <td>1.5</td>\n",
       "      <td>Iris-versicolor</td>\n",
       "    </tr>\n",
       "    <tr>\n",
       "      <th>86</th>\n",
       "      <td>6.3</td>\n",
       "      <td>2.3</td>\n",
       "      <td>4.4</td>\n",
       "      <td>1.3</td>\n",
       "      <td>Iris-versicolor</td>\n",
       "    </tr>\n",
       "    <tr>\n",
       "      <th>87</th>\n",
       "      <td>5.6</td>\n",
       "      <td>3.0</td>\n",
       "      <td>4.1</td>\n",
       "      <td>1.3</td>\n",
       "      <td>Iris-versicolor</td>\n",
       "    </tr>\n",
       "    <tr>\n",
       "      <th>88</th>\n",
       "      <td>5.5</td>\n",
       "      <td>2.5</td>\n",
       "      <td>4.0</td>\n",
       "      <td>1.3</td>\n",
       "      <td>Iris-versicolor</td>\n",
       "    </tr>\n",
       "    <tr>\n",
       "      <th>89</th>\n",
       "      <td>5.5</td>\n",
       "      <td>2.6</td>\n",
       "      <td>4.4</td>\n",
       "      <td>1.2</td>\n",
       "      <td>Iris-versicolor</td>\n",
       "    </tr>\n",
       "  </tbody>\n",
       "</table>\n",
       "<p>90 rows × 5 columns</p>\n",
       "</div>"
      ],
      "text/plain": [
       "    sepal_length  sepal_width  petal_length  petal_width          species\n",
       "0            4.9          3.0           1.4          0.2      Iris-setosa\n",
       "1            4.7          3.2           1.3          0.2      Iris-setosa\n",
       "2            4.6          3.1           1.5          0.2      Iris-setosa\n",
       "3            5.0          3.6           1.4          0.2      Iris-setosa\n",
       "4            5.4          3.9           1.7          0.4      Iris-setosa\n",
       "..           ...          ...           ...          ...              ...\n",
       "85           6.7          3.1           4.7          1.5  Iris-versicolor\n",
       "86           6.3          2.3           4.4          1.3  Iris-versicolor\n",
       "87           5.6          3.0           4.1          1.3  Iris-versicolor\n",
       "88           5.5          2.5           4.0          1.3  Iris-versicolor\n",
       "89           5.5          2.6           4.4          1.2  Iris-versicolor\n",
       "\n",
       "[90 rows x 5 columns]"
      ]
     },
     "execution_count": 100,
     "metadata": {},
     "output_type": "execute_result"
    }
   ],
   "source": [
    "df = pd.read_csv(\"IRIS_Training.csv\", sep=\";\")\n",
    "df['species'] = df['species'].astype(\"category\")\n",
    "df"
   ]
  },
  {
   "cell_type": "markdown",
   "metadata": {},
   "source": [
    "We can see that this dataset contains features of flowers. We check the information fo the data set to see if we have null values."
   ]
  },
  {
   "cell_type": "code",
   "execution_count": 101,
   "metadata": {},
   "outputs": [
    {
     "name": "stdout",
     "output_type": "stream",
     "text": [
      "<class 'pandas.core.frame.DataFrame'>\n",
      "RangeIndex: 90 entries, 0 to 89\n",
      "Data columns (total 5 columns):\n",
      " #   Column        Non-Null Count  Dtype   \n",
      "---  ------        --------------  -----   \n",
      " 0   sepal_length  90 non-null     float64 \n",
      " 1   sepal_width   90 non-null     float64 \n",
      " 2   petal_length  90 non-null     float64 \n",
      " 3   petal_width   90 non-null     float64 \n",
      " 4   species       90 non-null     category\n",
      "dtypes: category(1), float64(4)\n",
      "memory usage: 3.1 KB\n"
     ]
    }
   ],
   "source": [
    "df.info()"
   ]
  },
  {
   "cell_type": "markdown",
   "metadata": {},
   "source": [
    "As we see (RangeIndex) we have 90 rows and each column has 90 non-null values so we have a clean data set."
   ]
  },
  {
   "cell_type": "code",
   "execution_count": 102,
   "metadata": {},
   "outputs": [
    {
     "data": {
      "image/png": "[encoded data removed]",
      "text/plain": [
       "<Figure size 432x288 with 1 Axes>"
      ]
     },
     "metadata": {
      "needs_background": "light"
     },
     "output_type": "display_data"
    }
   ],
   "source": [
    "df['species'].value_counts().plot(kind='bar', grid=False, title=\"Distribution of samples based on specie\")\n",
    "plt.show()"
   ]
  },
  {
   "cell_type": "code",
   "execution_count": 103,
   "metadata": {},
   "outputs": [
    {
     "data": {
      "text/plain": [
       "species\n",
       "Iris-setosa        49\n",
       "Iris-versicolor    41\n",
       "dtype: int64"
      ]
     },
     "execution_count": 103,
     "metadata": {},
     "output_type": "execute_result"
    }
   ],
   "source": [
    "df.groupby(\"species\").size()"
   ]
  },
  {
   "attachments": {},
   "cell_type": "markdown",
   "metadata": {},
   "source": [
    "We see that we have 49 samples of Iris-setosa and 41 of Iris-versicolor.\n",
    "\n",
    "Now that we know the data set we can start the task, first we need to extract the train data, that is all the features of our flowers (all the columns of the data frame except the `species` one)."
   ]
  },
  {
   "cell_type": "code",
   "execution_count": 104,
   "metadata": {},
   "outputs": [
    {
     "data": {
      "text/plain": [
       "(90, 4)"
      ]
     },
     "execution_count": 104,
     "metadata": {},
     "output_type": "execute_result"
    }
   ],
   "source": [
    "X_train = df[df.columns[:-1]]\n",
    "X = X_train.to_numpy(dtype=\"float32\")\n",
    "X.shape"
   ]
  },
  {
   "attachments": {},
   "cell_type": "markdown",
   "metadata": {},
   "source": [
    "As we can see 90 flowers to train each one with 4 features."
   ]
  },
  {
   "cell_type": "code",
   "execution_count": 105,
   "metadata": {},
   "outputs": [],
   "source": [
    "outcome = df[df.columns[-1]]\n",
    "Y_train = outcome == \"Iris-setosa\"\n",
    "Y_train = Y_train.astype(\"int\")\n",
    "Y_train[Y_train==0] = -1\n",
    "Y = np.array(Y_train)"
   ]
  },
  {
   "attachments": {},
   "cell_type": "markdown",
   "metadata": {},
   "source": [
    "Now we have an array `X` with shape `(90,4)` containing the features of the 90 flowers and an array `Y` with shape `(90,1)` full of 1 if the corresponding flower is Iris-setosa, and -1 if the flower is Iris-versicolor."
   ]
  },
  {
   "attachments": {},
   "cell_type": "markdown",
   "metadata": {},
   "source": [
    "## Solution\n",
    "As seen in class the goal of this homework is to classify two types of flowers. To do so we have to find a hyperplane that divide the space in two regions, one for the _Iris-setosa_ and the other for the _Iris-versicolor_. To do so we have to sole the following optimization problem:\n",
    "\n",
    "$$\n",
    "\\text{minimize} \\;\\;\\; \\|\\omega\\|_2\n",
    "$$\n",
    "$$\n",
    "\\text{s.t.}\\;\\;\\; y_i(\\omega^\\top x_i+b)\\geq 1,\n",
    "$$\n",
    "\n",
    "where $\\omega$ is the normal vector to the hyperplane, $b$ is the coordinate at the origin, $x_i$ is a vector in $\\mathbb{R}^4$ containing the characteristics of one flower and $y_i$ is either 1 or -1, depending on the type of flower. The problem is completely equivalent to \n",
    "\n",
    "$$\n",
    "\\text{minimize} \\;\\;\\; \\frac{1}{2}\\|\\omega\\|_2^2\n",
    "$$\n",
    "$$\n",
    "\\text{s.t.}\\;\\;\\; 1-y_i(\\omega^\\top x_i+b)\\leq 0,\n",
    "$$\n",
    "\n",
    "because $\\|\\omega\\|_2$ and $\\|\\omega\\|^2_2$ share the point where they achieve the minimum. This is a problem that we know how to solve because using a barrier method we can convert it into an unconstrained problem. We are going to use the logarithmic barrier and the problem becomes\n",
    "\n",
    "$$\n",
    "\\text{minimize} \\;\\;\\; f(\\omega,b) = \\frac{1}{2}\\|\\omega\\|_2^2 - \\left(\\frac{1}{t}\\right)\\sum_{i=1}^n \\log\\left[y_i(\\omega^\\top x_i+b) -1\\right],\n",
    "$$\n",
    "\n",
    "where $n$ is the number of samples, in our case 90. Now our problem with inequality constraints has become one without any constraint, and we have to minimize this function with respect to the parameters $\\omega\\in\\mathbb{R}^4$ and $b\\in\\mathbb{R}$. To do so we implement two methods:\n",
    "1. Gradient descend,\n",
    "2. Newton method.\n",
    "\n",
    "For both methods we need to compute the gradient of our function. In our case the gradient is $\\nabla\\to\\left(\\nabla_\\omega,\\partial_b\\right)$\n",
    "\n",
    "$$\n",
    "\\nabla_\\omega f(\\omega,b) = \\omega - \\left(\\frac{1}{t}\\right)\\sum_{i=1}^n \\frac{y_ix_i}{y_i(\\omega^\\top x_i+b) -1}\n",
    "$$\n",
    "$$\n",
    "\\partial_b f(\\omega,b) = - \\left(\\frac{1}{t}\\right)\\sum_{i=1}^n \\frac{y_i}{y_i(\\omega^\\top x_i+b) -1}. \n",
    "$$\n",
    "As we can see $\\nabla_\\omega f(\\omega,b)$ is a vector because of the factor $x_i$ in the numerator, and $\\partial_b f(\\omega,b)$ is a scalar because $y_i$ is a scalar. \n",
    "\n",
    "For the Newton method we also need the Hessian matrix so based on the book Convex Optimization by Stephen Boyd and Lieven Vandenberghe we see that the Hessian of our the logarithmic barrier has two terms.\n",
    "$$\n",
    " \\nabla^2 \\phi(x) =\\sum_{i=1}^m \\frac{1}{f_i(x)^2} \\nabla f_i(x) \\nabla f_i(x)^T+\\sum_{i=1}^m \\frac{1}{-f_i(x)} \\nabla^2 f_i(x),\n",
    "$$\n",
    "\n",
    "but in our case the variable is $x = (\\omega,b)$ and our function $-f_i(\\omega,b) = y_i(\\omega^\\top x_i+b) -1$. First we compute the gradient of $f_i(\\omega,b)$.\n",
    "\n",
    "$$\n",
    "\\nabla f_i(\\omega,b) = (\\nabla_\\omega, \\partial_b)f_i = (y_i x_i, y_i),\n",
    "$$\n",
    "that is a vector in this case of size $5\\times 1$. To compute the second part of the Hessian we need to calculate the Hessian of $f_i$, but note that the gradient we have computed above doesn't depend on any of the variables $(\\omega,b)$ so the Hessian is 0. \n",
    "$$\n",
    "\\nabla^2 f(\\omega,b) = \\mathbb{I} - \\left(\\frac{1}{t}\\right) \\sum_{i=1}^n \\frac{1}{\\left[y_i(\\omega^\\top x_i+b) -1\\right]^2}\\begin{pmatrix} y_i x_i \\\\ y_i \\end{pmatrix} \\begin{pmatrix} y_i x_i & y_i \\end{pmatrix}\n",
    "$$\n",
    "\n",
    "\n"
   ]
  },
  {
   "attachments": {},
   "cell_type": "markdown",
   "metadata": {},
   "source": [
    "## Code\n",
    "First we define a function to compute the value $f(\\omega,b)$, then the gradient of that function and lastly, the Hessian.\n",
    "All this functions are vectorized in order to avoid loops.\n"
   ]
  },
  {
   "cell_type": "code",
   "execution_count": 106,
   "metadata": {},
   "outputs": [],
   "source": [
    "def f(point, mu, y_vector, X):\n",
    "    \"\"\"The function to minimize. To compute the value of the function\n",
    "    we define some matrices to avoid for loops.\n",
    "\n",
    "    Args:\n",
    "        point: is an array in which the first element is b\n",
    "            and the rest are vector w.\n",
    "        mu: the parameter that multiplies the logarithmic barrier,\n",
    "            1/t in the formula.\n",
    "        y_vector: is the array containing all the values of y_i.\n",
    "        X: is the matrix with all the samples features, note that\n",
    "            the shape of this array is (4,90) so is the transpose of the\n",
    "            one we get from the dataframe.\n",
    "    \"\"\"\n",
    "    assert point.shape == (5,), \"Incorrect size of point. The size must be 5\"\n",
    "\n",
    "    b = point[0]\n",
    "    w = point[1:]\n",
    "    n = X.shape[1]\n",
    "\n",
    "    # We create some matrices to compute the function f without explicit summations\n",
    "    one = np.ones(shape=(n,))\n",
    "    w_matrix = np.tile(w, (n, 1)).T  # Is a matrix whose columns are the vector w\n",
    "    b_vector = np.full_like(y_vector, fill_value=b)\n",
    "\n",
    "    return 0.5 * w.T @ w - mu * one.T @ np.log(\n",
    "        y_vector * ((w_matrix * X).sum(0) + b_vector) - one\n",
    "    )  #       this is equivalent to np.diag(W.T.dot(X))\n",
    "\n",
    "\n",
    "def gradient(point, mu, y_vector, X):\n",
    "    \"\"\"The gradient of the function to minimize. We create it in two parts\n",
    "    first the gradient with respect to omega, and second the partial\n",
    "    derivative with respect to b. To compute both we define some matrices so\n",
    "    we don't have to use loops and the program runs faster.\n",
    "\n",
    "    Args:\n",
    "        point: is an array in which the first element is b\n",
    "            and the rest are vector w.\n",
    "        mu: the parameter that multiplies the logarithmic barrier,\n",
    "            1/t in the formula.\n",
    "        y_vector: is the array containing all the values of y_i.\n",
    "        X: is the matrix with all the samples features, note that\n",
    "            the shape of this array is (4,90) so is the transpose of the\n",
    "            one we get from the dataframe.\n",
    "    \"\"\"\n",
    "    b = point[0]\n",
    "    w = point[1:]\n",
    "    n = X.shape[1]\n",
    "\n",
    "    # We create some matrices to compute the function f without explicit summations\n",
    "    one = np.ones(shape=(n,))\n",
    "    w_matrix = np.tile(w, (n, 1)).T  # Is a matrix whose columns are the vector w\n",
    "    b_vector = np.full_like(y_vector, fill_value=b)\n",
    "    denom = y_vector * ((w_matrix * X).sum(0) + b_vector) - one\n",
    "\n",
    "    grad_w = w - mu * np.sum((y_vector * X) / denom, axis=1)\n",
    "    grad_b = -mu * np.sum(y_vector / denom)\n",
    "    return np.concatenate((grad_w, grad_b), axis=None)\n",
    "\n",
    "\n",
    "def hessian(point, mu, y_vector, X):\n",
    "    \"\"\"The function that returns the Hessian of our function.\n",
    "    We define some matrices to achieve a vectorized code and for\n",
    "    efficiency.\n",
    "\n",
    "    Args:\n",
    "        point (_type_): is an array in which the first element is b\n",
    "            and the rest are vector w.\n",
    "        mu (_type_): the parameter that multiplies the logarithmic barrier,\n",
    "            1/t in the formula.\n",
    "        y_vector (_type_): is the array containing all the values of y_i.\n",
    "        X (_type_): is the matrix with all the samples features, note that\n",
    "            the shape of this array is (4,90) so is the transpose of the\n",
    "            one we get from the dataframe.\n",
    "    \"\"\"\n",
    "    b = point[0]\n",
    "    w = point[1:]\n",
    "    n = X.shape[1]\n",
    "\n",
    "    # We create some matrices to compute the function f without explicit summations\n",
    "    one = np.ones(shape=(n,))\n",
    "    w_matrix = np.tile(w, (n, 1)).T  # Is a matrix whose columns are the vector w\n",
    "    b_vector = np.full_like(y_vector, fill_value=b)\n",
    "    denom = y_vector * ((w_matrix * X).sum(0) + b_vector) - one\n",
    "\n",
    "    # First part of the hessian of the barrier\n",
    "    full_grad = np.vstack((y_vector * X, y_vector))  # Each column is (\\nabla f_i)\n",
    "    total = (\n",
    "        np.einsum(\"ij,ik->ijk\", full_grad.T, full_grad.T) / denom[:, None, None] ** 2\n",
    "    )\n",
    "    hess_1 = total.sum(axis=0)\n",
    "\n",
    "    # Second part of the Hessian of the barrier is 0\n",
    "\n",
    "    return np.identity(hess_1.shape[0]) - mu * hess_1"
   ]
  },
  {
   "attachments": {},
   "cell_type": "markdown",
   "metadata": {},
   "source": [
    "Now we define the two methods that we are going to use. First the gradient descend and second the Newton method"
   ]
  },
  {
   "cell_type": "code",
   "execution_count": 107,
   "metadata": {},
   "outputs": [],
   "source": [
    "def gradient_descend(x, mu, y_vector, X):\n",
    "    \"\"\"The gradient descend method\"\"\"\n",
    "    grad = gradient(x, mu, y_vector, X)\n",
    "    \n",
    "    for _ in range(10_000):\n",
    "        descend_direction = -grad\n",
    "        # t = line_search(descend_direction, x, mu, y_vector, X)\n",
    "        t = 0.0001\n",
    "        x = x + t * descend_direction\n",
    "        grad = gradient(x, mu, y_vector, X)\n",
    "\n",
    "    return x\n",
    "\n",
    "def newtons_method(x, mu, y_vector, X):\n",
    "    \"\"\"Implementation of the newton method\"\"\"\n",
    "\n",
    "    grad = gradient(x, mu, y_vector, X)\n",
    "\n",
    "    for ite in range(1000):\n",
    "        descend_direction = npl.solve(-hessian(x, mu, y_vector, X), grad)\n",
    "        t = 0.0001\n",
    "        x = x + t * descend_direction\n",
    "        grad = gradient(x, mu, y_vector, X)\n",
    "\n",
    "    return x\n",
    "\n",
    "\n"
   ]
  },
  {
   "attachments": {},
   "cell_type": "markdown",
   "metadata": {},
   "source": [
    "To get our starting feasible point we choose two elements of the data set, one for the Iris-setosa and another from the Iris-versicolor. The easiest way of doing this is to take the first element $p$ and last element $q$ of the data set. As a starting vector we take the vector from one point to the other, $p-q$ and as a starting $b$, because we have the initial vector $\\omega$ we need to solve a typical problem: having the normal vector of a plane, find the equation of the plane that past through the point $r$. In our case this point $r$ is the middle point between $p$ and $q$."
   ]
  },
  {
   "cell_type": "code",
   "execution_count": 108,
   "metadata": {},
   "outputs": [],
   "source": [
    "p = X[0]\n",
    "q = X[-1]\n",
    "\n",
    "w_0 = p - q\n",
    "x_feasible = (p + q)/2\n",
    "b = - w_0.T@x_feasible\n",
    "# In code the vector is (b,\\omega) in stead of (\\omega,b) as in the theory\n",
    "point_0 = np.append(b, w_0)"
   ]
  },
  {
   "attachments": {},
   "cell_type": "markdown",
   "metadata": {},
   "source": [
    "With this initial point we can apply the two methods and predict the output of the classification data set."
   ]
  },
  {
   "cell_type": "code",
   "execution_count": 109,
   "metadata": {},
   "outputs": [],
   "source": [
    "df_test = pd.read_csv(\"IRIS_classification.csv\", sep=\";\")\n",
    "X_test = df_test.to_numpy()\n",
    "\n",
    "def classify(point, X):\n",
    "    \"\"\"This function classify a data set into two classes\n",
    "\n",
    "    Args:\n",
    "        point: _description_\n",
    "        X: the data to classify. It must have the same number\n",
    "            of rows as the length of w, in this case 4.\n",
    "    \"\"\"\n",
    "    w = point[1:]\n",
    "    assert len(w) == X.shape[0], \"Dimensions don't agree, you should put X_test.T\"\n",
    "    b = point[0]\n",
    "    nf = X.shape[1]\n",
    "    \n",
    "\n",
    "    w_matrix = np.tile(w, (nf, 1)).T\n",
    "    b_vector = np.full(nf, fill_value=b)\n",
    "    pred = np.sign((w_matrix * X).sum(0) + b_vector)\n",
    "    df = pd.DataFrame(data=pred, index=range(nf), columns=['Prediction'])\n",
    "    df['species'] = np.where(df['Prediction'] == 1, \"Iris-setosa\", \"Iris-versicolor\" )\n",
    "    return df\n",
    "    \n"
   ]
  },
  {
   "cell_type": "code",
   "execution_count": 110,
   "metadata": {},
   "outputs": [
    {
     "data": {
      "text/html": [
       "<div>\n",
       "<style scoped>\n",
       "    .dataframe tbody tr th:only-of-type {\n",
       "        vertical-align: middle;\n",
       "    }\n",
       "\n",
       "    .dataframe tbody tr th {\n",
       "        vertical-align: top;\n",
       "    }\n",
       "\n",
       "    .dataframe thead th {\n",
       "        text-align: right;\n",
       "    }\n",
       "</style>\n",
       "<table border=\"1\" class=\"dataframe\">\n",
       "  <thead>\n",
       "    <tr style=\"text-align: right;\">\n",
       "      <th></th>\n",
       "      <th>Prediction</th>\n",
       "      <th>species</th>\n",
       "    </tr>\n",
       "  </thead>\n",
       "  <tbody>\n",
       "    <tr>\n",
       "      <th>0</th>\n",
       "      <td>1.0</td>\n",
       "      <td>Iris-setosa</td>\n",
       "    </tr>\n",
       "    <tr>\n",
       "      <th>1</th>\n",
       "      <td>-1.0</td>\n",
       "      <td>Iris-versicolor</td>\n",
       "    </tr>\n",
       "    <tr>\n",
       "      <th>2</th>\n",
       "      <td>-1.0</td>\n",
       "      <td>Iris-versicolor</td>\n",
       "    </tr>\n",
       "    <tr>\n",
       "      <th>3</th>\n",
       "      <td>-1.0</td>\n",
       "      <td>Iris-versicolor</td>\n",
       "    </tr>\n",
       "    <tr>\n",
       "      <th>4</th>\n",
       "      <td>-1.0</td>\n",
       "      <td>Iris-versicolor</td>\n",
       "    </tr>\n",
       "    <tr>\n",
       "      <th>5</th>\n",
       "      <td>-1.0</td>\n",
       "      <td>Iris-versicolor</td>\n",
       "    </tr>\n",
       "    <tr>\n",
       "      <th>6</th>\n",
       "      <td>-1.0</td>\n",
       "      <td>Iris-versicolor</td>\n",
       "    </tr>\n",
       "    <tr>\n",
       "      <th>7</th>\n",
       "      <td>-1.0</td>\n",
       "      <td>Iris-versicolor</td>\n",
       "    </tr>\n",
       "    <tr>\n",
       "      <th>8</th>\n",
       "      <td>-1.0</td>\n",
       "      <td>Iris-versicolor</td>\n",
       "    </tr>\n",
       "    <tr>\n",
       "      <th>9</th>\n",
       "      <td>-1.0</td>\n",
       "      <td>Iris-versicolor</td>\n",
       "    </tr>\n",
       "  </tbody>\n",
       "</table>\n",
       "</div>"
      ],
      "text/plain": [
       "   Prediction          species\n",
       "0         1.0      Iris-setosa\n",
       "1        -1.0  Iris-versicolor\n",
       "2        -1.0  Iris-versicolor\n",
       "3        -1.0  Iris-versicolor\n",
       "4        -1.0  Iris-versicolor\n",
       "5        -1.0  Iris-versicolor\n",
       "6        -1.0  Iris-versicolor\n",
       "7        -1.0  Iris-versicolor\n",
       "8        -1.0  Iris-versicolor\n",
       "9        -1.0  Iris-versicolor"
      ]
     },
     "execution_count": 110,
     "metadata": {},
     "output_type": "execute_result"
    }
   ],
   "source": [
    "point = newtons_method(point_0, 0.01, Y, X.T)\n",
    "\n",
    "predictions = classify(point, X_test.T)\n",
    "predictions\n"
   ]
  },
  {
   "cell_type": "code",
   "execution_count": 111,
   "metadata": {},
   "outputs": [
    {
     "data": {
      "text/html": [
       "<div>\n",
       "<style scoped>\n",
       "    .dataframe tbody tr th:only-of-type {\n",
       "        vertical-align: middle;\n",
       "    }\n",
       "\n",
       "    .dataframe tbody tr th {\n",
       "        vertical-align: top;\n",
       "    }\n",
       "\n",
       "    .dataframe thead th {\n",
       "        text-align: right;\n",
       "    }\n",
       "</style>\n",
       "<table border=\"1\" class=\"dataframe\">\n",
       "  <thead>\n",
       "    <tr style=\"text-align: right;\">\n",
       "      <th></th>\n",
       "      <th>Prediction</th>\n",
       "      <th>species</th>\n",
       "    </tr>\n",
       "  </thead>\n",
       "  <tbody>\n",
       "    <tr>\n",
       "      <th>0</th>\n",
       "      <td>1.0</td>\n",
       "      <td>Iris-setosa</td>\n",
       "    </tr>\n",
       "    <tr>\n",
       "      <th>1</th>\n",
       "      <td>-1.0</td>\n",
       "      <td>Iris-versicolor</td>\n",
       "    </tr>\n",
       "    <tr>\n",
       "      <th>2</th>\n",
       "      <td>-1.0</td>\n",
       "      <td>Iris-versicolor</td>\n",
       "    </tr>\n",
       "    <tr>\n",
       "      <th>3</th>\n",
       "      <td>-1.0</td>\n",
       "      <td>Iris-versicolor</td>\n",
       "    </tr>\n",
       "    <tr>\n",
       "      <th>4</th>\n",
       "      <td>-1.0</td>\n",
       "      <td>Iris-versicolor</td>\n",
       "    </tr>\n",
       "    <tr>\n",
       "      <th>5</th>\n",
       "      <td>-1.0</td>\n",
       "      <td>Iris-versicolor</td>\n",
       "    </tr>\n",
       "    <tr>\n",
       "      <th>6</th>\n",
       "      <td>-1.0</td>\n",
       "      <td>Iris-versicolor</td>\n",
       "    </tr>\n",
       "    <tr>\n",
       "      <th>7</th>\n",
       "      <td>-1.0</td>\n",
       "      <td>Iris-versicolor</td>\n",
       "    </tr>\n",
       "    <tr>\n",
       "      <th>8</th>\n",
       "      <td>-1.0</td>\n",
       "      <td>Iris-versicolor</td>\n",
       "    </tr>\n",
       "    <tr>\n",
       "      <th>9</th>\n",
       "      <td>-1.0</td>\n",
       "      <td>Iris-versicolor</td>\n",
       "    </tr>\n",
       "  </tbody>\n",
       "</table>\n",
       "</div>"
      ],
      "text/plain": [
       "   Prediction          species\n",
       "0         1.0      Iris-setosa\n",
       "1        -1.0  Iris-versicolor\n",
       "2        -1.0  Iris-versicolor\n",
       "3        -1.0  Iris-versicolor\n",
       "4        -1.0  Iris-versicolor\n",
       "5        -1.0  Iris-versicolor\n",
       "6        -1.0  Iris-versicolor\n",
       "7        -1.0  Iris-versicolor\n",
       "8        -1.0  Iris-versicolor\n",
       "9        -1.0  Iris-versicolor"
      ]
     },
     "execution_count": 111,
     "metadata": {},
     "output_type": "execute_result"
    }
   ],
   "source": [
    "point = gradient_descend(point_0, 0.01, Y, X.T)\n",
    "\n",
    "predictions = classify(point, X_test.T)\n",
    "predictions"
   ]
  },
  {
   "cell_type": "code",
   "execution_count": 112,
   "metadata": {},
   "outputs": [],
   "source": [
    "# point_g = gradient_descend(point_0, 0.01, Y, X.T)\n",
    "# print(point_g)\n",
    "# w_g = point_g[1:]\n",
    "# b_g = point_g[0]\n",
    "\n",
    "# w_matrix = np.tile(w_g, (90, 1)).T\n",
    "# b_vector = np.full_like(Y, fill_value=b_g)\n",
    "# pred = np.sign((w_matrix * X.T).sum(0) + b_vector)\n",
    "# (Y != pred).sum()"
   ]
  },
  {
   "cell_type": "code",
   "execution_count": null,
   "metadata": {},
   "outputs": [],
   "source": []
  },
  {
   "cell_type": "code",
   "execution_count": 113,
   "metadata": {},
   "outputs": [],
   "source": [
    "def fit(point_0, Y, X, stop, newton = True):\n",
    "    \"\"\"We start with mu big enough so our function is differentiable \n",
    "    and we decrease the value of mu until a certain point\n",
    "    \"\"\"\n",
    "    mu = 1\n",
    "    factor = 0.2  # The factor we decrease mu at every step\n",
    "    point = point_0\n",
    "    while mu >= stop/90.0:\n",
    "        if newton:\n",
    "            point = newtons_method(point, mu, Y, X.T)\n",
    "        else: \n",
    "            point = gradient_descend(point, mu, Y, X.T)\n",
    "        mu *= factor\n",
    "    \n",
    "    return point, mu\n",
    "    "
   ]
  },
  {
   "cell_type": "code",
   "execution_count": 114,
   "metadata": {},
   "outputs": [
    {
     "data": {
      "text/html": [
       "<div>\n",
       "<style scoped>\n",
       "    .dataframe tbody tr th:only-of-type {\n",
       "        vertical-align: middle;\n",
       "    }\n",
       "\n",
       "    .dataframe tbody tr th {\n",
       "        vertical-align: top;\n",
       "    }\n",
       "\n",
       "    .dataframe thead th {\n",
       "        text-align: right;\n",
       "    }\n",
       "</style>\n",
       "<table border=\"1\" class=\"dataframe\">\n",
       "  <thead>\n",
       "    <tr style=\"text-align: right;\">\n",
       "      <th></th>\n",
       "      <th>Prediction</th>\n",
       "      <th>species</th>\n",
       "    </tr>\n",
       "  </thead>\n",
       "  <tbody>\n",
       "    <tr>\n",
       "      <th>0</th>\n",
       "      <td>1.0</td>\n",
       "      <td>Iris-setosa</td>\n",
       "    </tr>\n",
       "    <tr>\n",
       "      <th>1</th>\n",
       "      <td>-1.0</td>\n",
       "      <td>Iris-versicolor</td>\n",
       "    </tr>\n",
       "    <tr>\n",
       "      <th>2</th>\n",
       "      <td>-1.0</td>\n",
       "      <td>Iris-versicolor</td>\n",
       "    </tr>\n",
       "    <tr>\n",
       "      <th>3</th>\n",
       "      <td>-1.0</td>\n",
       "      <td>Iris-versicolor</td>\n",
       "    </tr>\n",
       "    <tr>\n",
       "      <th>4</th>\n",
       "      <td>-1.0</td>\n",
       "      <td>Iris-versicolor</td>\n",
       "    </tr>\n",
       "    <tr>\n",
       "      <th>5</th>\n",
       "      <td>-1.0</td>\n",
       "      <td>Iris-versicolor</td>\n",
       "    </tr>\n",
       "    <tr>\n",
       "      <th>6</th>\n",
       "      <td>-1.0</td>\n",
       "      <td>Iris-versicolor</td>\n",
       "    </tr>\n",
       "    <tr>\n",
       "      <th>7</th>\n",
       "      <td>-1.0</td>\n",
       "      <td>Iris-versicolor</td>\n",
       "    </tr>\n",
       "    <tr>\n",
       "      <th>8</th>\n",
       "      <td>-1.0</td>\n",
       "      <td>Iris-versicolor</td>\n",
       "    </tr>\n",
       "    <tr>\n",
       "      <th>9</th>\n",
       "      <td>-1.0</td>\n",
       "      <td>Iris-versicolor</td>\n",
       "    </tr>\n",
       "  </tbody>\n",
       "</table>\n",
       "</div>"
      ],
      "text/plain": [
       "   Prediction          species\n",
       "0         1.0      Iris-setosa\n",
       "1        -1.0  Iris-versicolor\n",
       "2        -1.0  Iris-versicolor\n",
       "3        -1.0  Iris-versicolor\n",
       "4        -1.0  Iris-versicolor\n",
       "5        -1.0  Iris-versicolor\n",
       "6        -1.0  Iris-versicolor\n",
       "7        -1.0  Iris-versicolor\n",
       "8        -1.0  Iris-versicolor\n",
       "9        -1.0  Iris-versicolor"
      ]
     },
     "execution_count": 114,
     "metadata": {},
     "output_type": "execute_result"
    }
   ],
   "source": [
    "hyperplane, t = fit(point_0, Y, X, 10e-5, newton=True)\n",
    "classify(hyperplane, X_test.T)"
   ]
  },
  {
   "cell_type": "markdown",
   "metadata": {},
   "source": [
    "To see if we did it well lets check some data."
   ]
  },
  {
   "cell_type": "code",
   "execution_count": 115,
   "metadata": {},
   "outputs": [],
   "source": [
    "# w = hyperplane[1:]\n",
    "# b = hyperplane[0]\n",
    "\n",
    "# w.T@X[0] + b"
   ]
  }
 ],
 "metadata": {
  "kernelspec": {
   "display_name": "Python 3 (ipykernel)",
   "language": "python",
   "name": "python3"
  },
  "language_info": {
   "codemirror_mode": {
    "name": "ipython",
    "version": 3
   },
   "file_extension": ".py",
   "mimetype": "text/x-python",
   "name": "python",
   "nbconvert_exporter": "python",
   "pygments_lexer": "ipython3",
   "version": "3.10.6"
  }
 },
 "nbformat": 4,
 "nbformat_minor": 2
}
