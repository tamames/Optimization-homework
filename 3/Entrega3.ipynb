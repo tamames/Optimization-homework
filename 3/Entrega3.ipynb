{
 "cells": [
  {
   "cell_type": "markdown",
   "metadata": {},
   "source": [
    "# Analysis of the dataset\n",
    "\n",
    "Here I have to check if the data set has null values and those things."
   ]
  },
  {
   "cell_type": "code",
   "execution_count": 471,
   "metadata": {},
   "outputs": [
    {
     "data": {
      "text/html": [
       "<div>\n",
       "<style scoped>\n",
       "    .dataframe tbody tr th:only-of-type {\n",
       "        vertical-align: middle;\n",
       "    }\n",
       "\n",
       "    .dataframe tbody tr th {\n",
       "        vertical-align: top;\n",
       "    }\n",
       "\n",
       "    .dataframe thead th {\n",
       "        text-align: right;\n",
       "    }\n",
       "</style>\n",
       "<table border=\"1\" class=\"dataframe\">\n",
       "  <thead>\n",
       "    <tr style=\"text-align: right;\">\n",
       "      <th></th>\n",
       "      <th>sepal_length</th>\n",
       "      <th>sepal_width</th>\n",
       "      <th>petal_length</th>\n",
       "      <th>petal_width</th>\n",
       "      <th>species</th>\n",
       "    </tr>\n",
       "  </thead>\n",
       "  <tbody>\n",
       "    <tr>\n",
       "      <th>0</th>\n",
       "      <td>4.9</td>\n",
       "      <td>3.0</td>\n",
       "      <td>1.4</td>\n",
       "      <td>0.2</td>\n",
       "      <td>Iris-setosa</td>\n",
       "    </tr>\n",
       "    <tr>\n",
       "      <th>1</th>\n",
       "      <td>4.7</td>\n",
       "      <td>3.2</td>\n",
       "      <td>1.3</td>\n",
       "      <td>0.2</td>\n",
       "      <td>Iris-setosa</td>\n",
       "    </tr>\n",
       "    <tr>\n",
       "      <th>2</th>\n",
       "      <td>4.6</td>\n",
       "      <td>3.1</td>\n",
       "      <td>1.5</td>\n",
       "      <td>0.2</td>\n",
       "      <td>Iris-setosa</td>\n",
       "    </tr>\n",
       "    <tr>\n",
       "      <th>3</th>\n",
       "      <td>5.0</td>\n",
       "      <td>3.6</td>\n",
       "      <td>1.4</td>\n",
       "      <td>0.2</td>\n",
       "      <td>Iris-setosa</td>\n",
       "    </tr>\n",
       "    <tr>\n",
       "      <th>4</th>\n",
       "      <td>5.4</td>\n",
       "      <td>3.9</td>\n",
       "      <td>1.7</td>\n",
       "      <td>0.4</td>\n",
       "      <td>Iris-setosa</td>\n",
       "    </tr>\n",
       "    <tr>\n",
       "      <th>...</th>\n",
       "      <td>...</td>\n",
       "      <td>...</td>\n",
       "      <td>...</td>\n",
       "      <td>...</td>\n",
       "      <td>...</td>\n",
       "    </tr>\n",
       "    <tr>\n",
       "      <th>85</th>\n",
       "      <td>6.7</td>\n",
       "      <td>3.1</td>\n",
       "      <td>4.7</td>\n",
       "      <td>1.5</td>\n",
       "      <td>Iris-versicolor</td>\n",
       "    </tr>\n",
       "    <tr>\n",
       "      <th>86</th>\n",
       "      <td>6.3</td>\n",
       "      <td>2.3</td>\n",
       "      <td>4.4</td>\n",
       "      <td>1.3</td>\n",
       "      <td>Iris-versicolor</td>\n",
       "    </tr>\n",
       "    <tr>\n",
       "      <th>87</th>\n",
       "      <td>5.6</td>\n",
       "      <td>3.0</td>\n",
       "      <td>4.1</td>\n",
       "      <td>1.3</td>\n",
       "      <td>Iris-versicolor</td>\n",
       "    </tr>\n",
       "    <tr>\n",
       "      <th>88</th>\n",
       "      <td>5.5</td>\n",
       "      <td>2.5</td>\n",
       "      <td>4.0</td>\n",
       "      <td>1.3</td>\n",
       "      <td>Iris-versicolor</td>\n",
       "    </tr>\n",
       "    <tr>\n",
       "      <th>89</th>\n",
       "      <td>5.5</td>\n",
       "      <td>2.6</td>\n",
       "      <td>4.4</td>\n",
       "      <td>1.2</td>\n",
       "      <td>Iris-versicolor</td>\n",
       "    </tr>\n",
       "  </tbody>\n",
       "</table>\n",
       "<p>90 rows × 5 columns</p>\n",
       "</div>"
      ],
      "text/plain": [
       "    sepal_length  sepal_width  petal_length  petal_width          species\n",
       "0            4.9          3.0           1.4          0.2      Iris-setosa\n",
       "1            4.7          3.2           1.3          0.2      Iris-setosa\n",
       "2            4.6          3.1           1.5          0.2      Iris-setosa\n",
       "3            5.0          3.6           1.4          0.2      Iris-setosa\n",
       "4            5.4          3.9           1.7          0.4      Iris-setosa\n",
       "..           ...          ...           ...          ...              ...\n",
       "85           6.7          3.1           4.7          1.5  Iris-versicolor\n",
       "86           6.3          2.3           4.4          1.3  Iris-versicolor\n",
       "87           5.6          3.0           4.1          1.3  Iris-versicolor\n",
       "88           5.5          2.5           4.0          1.3  Iris-versicolor\n",
       "89           5.5          2.6           4.4          1.2  Iris-versicolor\n",
       "\n",
       "[90 rows x 5 columns]"
      ]
     },
     "execution_count": 471,
     "metadata": {},
     "output_type": "execute_result"
    }
   ],
   "source": [
    "import pandas as pd\n",
    "import numpy as np\n",
    "import numpy.linalg as npl\n",
    "\n",
    "df = pd.read_csv(\"IRIS_Training.csv\", sep=\";\")\n",
    "df\n"
   ]
  },
  {
   "cell_type": "code",
   "execution_count": 472,
   "metadata": {},
   "outputs": [
    {
     "name": "stdout",
     "output_type": "stream",
     "text": [
      "<class 'pandas.core.frame.DataFrame'>\n",
      "RangeIndex: 90 entries, 0 to 89\n",
      "Data columns (total 5 columns):\n",
      " #   Column        Non-Null Count  Dtype  \n",
      "---  ------        --------------  -----  \n",
      " 0   sepal_length  90 non-null     float64\n",
      " 1   sepal_width   90 non-null     float64\n",
      " 2   petal_length  90 non-null     float64\n",
      " 3   petal_width   90 non-null     float64\n",
      " 4   species       90 non-null     object \n",
      "dtypes: float64(4), object(1)\n",
      "memory usage: 3.6+ KB\n"
     ]
    }
   ],
   "source": [
    "df.info()"
   ]
  },
  {
   "cell_type": "code",
   "execution_count": 473,
   "metadata": {},
   "outputs": [
    {
     "name": "stdout",
     "output_type": "stream",
     "text": [
      "   sepal_length  sepal_width  petal_length  petal_width\n",
      "0           4.9          3.0           1.4          0.2\n",
      "1           4.7          3.2           1.3          0.2\n",
      "2           4.6          3.1           1.5          0.2\n",
      "3           5.0          3.6           1.4          0.2\n",
      "4           5.4          3.9           1.7          0.4\n"
     ]
    },
    {
     "data": {
      "text/plain": [
       "(90, 4)"
      ]
     },
     "execution_count": 473,
     "metadata": {},
     "output_type": "execute_result"
    }
   ],
   "source": [
    "X_train = df[df.columns[:-1]]\n",
    "print(X_train.head())\n",
    "X = X_train.to_numpy(dtype=\"float32\")\n",
    "X.shape"
   ]
  },
  {
   "cell_type": "code",
   "execution_count": 474,
   "metadata": {},
   "outputs": [
    {
     "data": {
      "text/plain": [
       "90"
      ]
     },
     "execution_count": 474,
     "metadata": {},
     "output_type": "execute_result"
    }
   ],
   "source": [
    "number_features = len(X_train.columns)  \n",
    "number_samples = len(X_train)\n",
    "number_samples"
   ]
  },
  {
   "cell_type": "code",
   "execution_count": 475,
   "metadata": {},
   "outputs": [
    {
     "data": {
      "text/plain": [
       "4"
      ]
     },
     "execution_count": 475,
     "metadata": {},
     "output_type": "execute_result"
    }
   ],
   "source": [
    "number_features"
   ]
  },
  {
   "cell_type": "code",
   "execution_count": 476,
   "metadata": {},
   "outputs": [
    {
     "data": {
      "text/plain": [
       "0         Iris-setosa\n",
       "1         Iris-setosa\n",
       "2         Iris-setosa\n",
       "3         Iris-setosa\n",
       "4         Iris-setosa\n",
       "           ...       \n",
       "85    Iris-versicolor\n",
       "86    Iris-versicolor\n",
       "87    Iris-versicolor\n",
       "88    Iris-versicolor\n",
       "89    Iris-versicolor\n",
       "Name: species, Length: 90, dtype: object"
      ]
     },
     "execution_count": 476,
     "metadata": {},
     "output_type": "execute_result"
    }
   ],
   "source": [
    "outcome = df[df.columns[-1]]\n",
    "outcome"
   ]
  },
  {
   "cell_type": "code",
   "execution_count": 477,
   "metadata": {},
   "outputs": [],
   "source": [
    "Y_train = outcome == \"Iris-setosa\"\n",
    "Y_train = Y_train.astype(\"int\")"
   ]
  },
  {
   "cell_type": "code",
   "execution_count": 478,
   "metadata": {},
   "outputs": [],
   "source": [
    "Y_train[Y_train==0] = -1\n",
    "Y = np.array(Y_train)"
   ]
  },
  {
   "cell_type": "code",
   "execution_count": 479,
   "metadata": {},
   "outputs": [
    {
     "data": {
      "text/plain": [
       "90"
      ]
     },
     "execution_count": 479,
     "metadata": {},
     "output_type": "execute_result"
    }
   ],
   "source": [
    "number_features = len(df.columns) - 1  # We don't take the species column\n",
    "number_samples = len(df)\n",
    "number_samples"
   ]
  },
  {
   "cell_type": "code",
   "execution_count": 480,
   "metadata": {},
   "outputs": [
    {
     "data": {
      "text/plain": [
       "4"
      ]
     },
     "execution_count": 480,
     "metadata": {},
     "output_type": "execute_result"
    }
   ],
   "source": [
    "number_features"
   ]
  },
  {
   "cell_type": "markdown",
   "metadata": {},
   "source": [
    "# Solution\n",
    "As seen in class the goal of this homework is to classify two types of flowers. To do so we have to find a hyperplane that divide the space in two regions, one for the _Iris-setosa_ and the other for the _Iris-versicolor_. To do so we have to sole the following optimization problem:\n",
    "\n",
    "$$\n",
    "\\text{minimize} \\;\\;\\; \\|\\omega\\|_2\n",
    "$$\n",
    "$$\n",
    "\\text{s.t.}\\;\\;\\; y_i(\\omega^\\top x_i+b)\\geq 1,\n",
    "$$\n",
    "\n",
    "where $\\omega$ is the normal vector to the hyperplane, $b$ is the coordinate at the origin, $x_i$ is a vector in $\\mathbb{R}^4$ containing the characteristics of one flower and $y_i$ is either 1 or -1, depending on the type of flower. The problem is completely equivalent to \n",
    "\n",
    "$$\n",
    "\\text{minimize} \\;\\;\\; \\frac{1}{2}\\|\\omega\\|_2^2\n",
    "$$\n",
    "$$\n",
    "\\text{s.t.}\\;\\;\\; 1-y_i(\\omega^\\top x_i+b)\\leq 0,\n",
    "$$\n",
    "\n",
    "because $\\|\\omega\\|_2$ and $\\|\\omega\\|^2_2$ share the point where they achieve the minimum. This is a problem that we know how to solve because using a barrier method we can convert it into an unconstrained problem. We are going to use the logarithmic barrier and the problem becomes\n",
    "\n",
    "$$\n",
    "\\text{minimize} \\;\\;\\; f(\\omega,b) = \\frac{1}{2}\\|\\omega\\|_2^2 - \\left(\\frac{1}{t}\\right)\\sum_{i=1}^n \\log\\left[y_i(\\omega^\\top x_i+b) -1\\right],\n",
    "$$\n",
    "\n",
    "where $n$ is the number of samples, in our case 90. Now our problem with inequality constraints has become one without any constraint, and we have to minimize this function with respect to the parameters $\\omega\\in\\mathbb{R}^4$ and $b\\in\\mathbb{R}$. To do so we are going to use the Newton method, so we need to compute the gradient and the Hessian of our function. In our case the gradient is $\\nabla\\to\\left(\\nabla_\\omega,\\partial_b\\right)$\n",
    "\n",
    "$$\n",
    "\\nabla_\\omega f(\\omega,b) = \\omega - \\left(\\frac{1}{t}\\right)\\sum_{i=1}^n \\frac{y_ix_i}{y_i(\\omega^\\top x_i+b) -1}\n",
    "$$\n",
    "$$\n",
    "\\partial_b f(\\omega,b) = - \\left(\\frac{1}{t}\\right)\\sum_{i=1}^n \\frac{y_i}{y_i(\\omega^\\top x_i+b) -1}. \n",
    "$$\n",
    "As we can see $\\nabla_\\omega f(\\omega,b)$ is a vector because of the factor $x_i$ in the numerator, and $\\partial_b f(\\omega,b)$ is a scalar because $y_i$ is a scalar.\n",
    "\n"
   ]
  },
  {
   "cell_type": "markdown",
   "metadata": {},
   "source": [
    "# Code"
   ]
  },
  {
   "cell_type": "code",
   "execution_count": 481,
   "metadata": {},
   "outputs": [],
   "source": [
    "def f(point, mu, y_vector, X, n = 90):\n",
    "    \"\"\"The function to minimize\n",
    "\n",
    "    Args:\n",
    "        point: is an array in which the first element is b\n",
    "            and the rest are vector w.\n",
    "        mu: the parameter that multiplies the logarithmic barrier,\n",
    "            1/t in the formula.\n",
    "        y_vector: is the array containing all the values of y_i.\n",
    "        X: is the matrix with all the samples features\n",
    "        n: the number of samples.\n",
    "    \"\"\"\n",
    "    assert point.shape == (5,), \"Incorrect size of point. The size must be 5\"\n",
    "\n",
    "    b = point[0]\n",
    "    w = point[1:]\n",
    "\n",
    "    # We create some matrices to compute the function f without explicit summations\n",
    "    one = np.ones(shape=(n,))\n",
    "    w_matrix = np.tile(w, (n, 1)).T  # Is a matrix whose columns are the vector w\n",
    "    b_vector = np.full_like(y_vector, fill_value=b)\n",
    "\n",
    "    #                                     this is equivalent to np.diag(W.T.dot(X))\n",
    "    return 0.5*w.T@w - mu*one.T@np.log(y_vector * ((w_matrix * X).sum(0) + b_vector) - one)\n",
    "\n",
    "def gradient(point, mu, y_vector, X, n = 90):\n",
    "    \"\"\"The gradient of the function to minimize\n",
    "\n",
    "    Args:\n",
    "        point: is an array in which the first element is b\n",
    "            and the rest are vector w.\n",
    "        mu: the parameter that multiplies the logarithmic barrier,\n",
    "            1/t in the formula.\n",
    "        y_vector: is the array containing all the values of y_i.\n",
    "        X: is the matrix with all the samples features\n",
    "        n: the number of samples.\n",
    "    \"\"\"\n",
    "    b = point[0]\n",
    "    w = point[1:]\n",
    "\n",
    "    # We create some matrices to compute the function f without explicit summations\n",
    "    one = np.ones(shape=(n,))\n",
    "    w_matrix = np.tile(w, (n, 1)).T  # Is a matrix whose columns are the vector w\n",
    "    b_vector = np.full_like(y_vector, fill_value=b)\n",
    "    denom = y_vector * ((w_matrix * X).sum(0) + b_vector) - one\n",
    "\n",
    "    grad_w = w - mu * np.sum((Y*X) / denom, axis=1)\n",
    "    grad_b = -mu * np.sum(Y/denom)\n",
    "    return np.concatenate((grad_w, grad_b), axis=None)\n",
    "\n",
    "def hessian(point, mu, y_vector, X, n = 90):\n",
    "    b = point[0]\n",
    "    w = point[1:]\n",
    "\n",
    "    # We create some matrices to compute the function f without explicit summations\n",
    "    one = np.ones(shape=(n,))\n",
    "    w_matrix = np.tile(w, (n, 1)).T  # Is a matrix whose columns are the vector w\n",
    "    b_vector = np.full_like(y_vector, fill_value=b)\n",
    "    denom = y_vector * ((w_matrix * X).sum(0) + b_vector) - one\n",
    "\n",
    "    # First part of the hessian of the barrier\n",
    "    full_grad = np.vstack((Y*X, Y)) # Each column is (\\nabla f_i)\n",
    "    total = np.einsum('ij,ik->ijk', full_grad.T, full_grad.T)/denom[:, None, None]**2\n",
    "    hess_1 = total.sum(axis=0)\n",
    "\n",
    "    # Second part of the Hessian of the barrier is 0\n",
    "\n",
    "    return np.identity(hess_1.shape[0]) - mu*hess_1\n",
    "\n",
    "def line_search(d_k, x, mu, y_vector, X):\n",
    "    \"\"\"Implement the line search method, this function update the time step\n",
    "    until the criterion is fulfilled\"\"\"\n",
    "\n",
    "    alpha = 0.35\n",
    "    beta = 0.5\n",
    "    t = 1\n",
    "    while f(x + t*d_k, mu, y_vector, X) > f(x, mu, y_vector, X) + alpha * t * np.dot(gradient(x, mu, y_vector, X),d_k):\n",
    "        t *= beta\n",
    "    return t\n",
    "\n"
   ]
  },
  {
   "cell_type": "code",
   "execution_count": 482,
   "metadata": {},
   "outputs": [],
   "source": [
    "def newtons_method(stop, x, mu, y_vector, X):\n",
    "    \"\"\"Implementation of the newton method\"\"\"\n",
    "\n",
    "    grad = gradient(x, mu, y_vector, X)\n",
    "    if np.dot(grad, grad) < stop**2:  # check the case that we are already in a minimum\n",
    "        return x, 0\n",
    "\n",
    "    for _ in range(1,1000):\n",
    "        descend_direction = npl.solve(-hessian(x, mu, y_vector, X), grad)\n",
    "        t = line_search(descend_direction, x, mu, y_vector, X)\n",
    "        x = x + t * descend_direction\n",
    "        grad = gradient(x, mu, y_vector, X)\n",
    "        if np.dot(grad, grad) < stop**2:\n",
    "            return x\n",
    "\n",
    "    print(\"The stop criterium wasn't achieve in 10000 iterations.\")\n",
    "    return x\n"
   ]
  },
  {
   "attachments": {},
   "cell_type": "markdown",
   "metadata": {},
   "source": [
    "To get our starting feasible point we choose two elements of the data set, one for the Iris-setosa and another from the Iris-versicolor. The easiest way of doing this is to take the first element $p$ and last element $q$ of the data set. As a starting vector we take the vector from one point to the other, $p-q$ and as a starting $b$ whe take the average of the components"
   ]
  },
  {
   "cell_type": "code",
   "execution_count": 483,
   "metadata": {},
   "outputs": [],
   "source": [
    "p = X[0]\n",
    "q = X[-1]\n",
    "\n",
    "w_0 = p - q\n",
    "b = np.mean(p+q)\n",
    "point_0 = np.append(b, w_0)"
   ]
  },
  {
   "cell_type": "code",
   "execution_count": 484,
   "metadata": {},
   "outputs": [
    {
     "name": "stderr",
     "output_type": "stream",
     "text": [
      "C:\\Users\\arcos\\AppData\\Local\\Temp\\ipykernel_11544\\1706675037.py:24: RuntimeWarning: invalid value encountered in log\n",
      "  return 0.5*w.T@w - mu*one.T@np.log(y_vector * ((w_matrix * X).sum(0) + b_vector) - one)\n"
     ]
    },
    {
     "name": "stdout",
     "output_type": "stream",
     "text": [
      "The stop criterium wasn't achieve in 10000 iterations.\n"
     ]
    },
    {
     "data": {
      "text/plain": [
       "(array([ 8.67727996e+13, -3.58667945e+11,  1.11074393e+09, -2.29084518e+06,\n",
       "         2.35993321e+03]),\n",
       " 999)"
      ]
     },
     "execution_count": 484,
     "metadata": {},
     "output_type": "execute_result"
    }
   ],
   "source": [
    "newtons_method(10e-5, point_0, 0.1, Y, X.T)"
   ]
  },
  {
   "cell_type": "code",
   "execution_count": 485,
   "metadata": {},
   "outputs": [],
   "source": [
    "def fit(point_0, Y, X):\n",
    "    \"\"\"We start with mu big enough so our function is differentiable \n",
    "    and we decrease the value of mu until a certain point\n",
    "    \"\"\"\n",
    "    mu = 1\n",
    "    point = newtons_method(10e-5, point_0, mu, Y, X.T)\n",
    "    pass"
   ]
  },
  {
   "cell_type": "code",
   "execution_count": 486,
   "metadata": {},
   "outputs": [],
   "source": [
    "# X = X.T\n",
    "# X_2 = X.T\n",
    "# X_2.shape"
   ]
  },
  {
   "cell_type": "code",
   "execution_count": 487,
   "metadata": {},
   "outputs": [],
   "source": [
    "# X_ampli_2 = np.vstack((Y*X_2, Y))\n",
    "# B_2 = np.einsum('ij,ik->ijk', X_ampli_2.T, X_ampli_2.T)\n",
    "# sumnor = B_2.sum(axis=0)\n",
    "# sumnor.shape"
   ]
  },
  {
   "cell_type": "code",
   "execution_count": 488,
   "metadata": {},
   "outputs": [],
   "source": [
    "# print(X_ampli_2)\n",
    "# print()\n",
    "# print(X_ampli_2/np.full_like(Y,fill_value=2.0))"
   ]
  }
 ],
 "metadata": {
  "kernelspec": {
   "display_name": "Python 3 (ipykernel)",
   "language": "python",
   "name": "python3"
  },
  "language_info": {
   "codemirror_mode": {
    "name": "ipython",
    "version": 3
   },
   "file_extension": ".py",
   "mimetype": "text/x-python",
   "name": "python",
   "nbconvert_exporter": "python",
   "pygments_lexer": "ipython3",
   "version": "3.10.6"
  }
 },
 "nbformat": 4,
 "nbformat_minor": 2
}
