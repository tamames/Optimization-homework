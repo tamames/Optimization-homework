{
 "cells": [
  {
   "cell_type": "markdown",
   "metadata": {},
   "source": [
    "# Homework 3\n",
    "Classification of species using SVM"
   ]
  },
  {
   "cell_type": "code",
   "execution_count": 1,
   "metadata": {},
   "outputs": [],
   "source": [
    "import pandas as pd\n",
    "import numpy as np\n",
    "import numpy.linalg as npl\n",
    "import matplotlib.pyplot as plt\n",
    "%matplotlib inline"
   ]
  },
  {
   "cell_type": "markdown",
   "metadata": {},
   "source": [
    "## Analysis of the dataset\n",
    "\n",
    "We first import the well know dataset. "
   ]
  },
  {
   "cell_type": "code",
   "execution_count": 2,
   "metadata": {},
   "outputs": [
    {
     "data": {
      "text/html": [
       "<div>\n",
       "<style scoped>\n",
       "    .dataframe tbody tr th:only-of-type {\n",
       "        vertical-align: middle;\n",
       "    }\n",
       "\n",
       "    .dataframe tbody tr th {\n",
       "        vertical-align: top;\n",
       "    }\n",
       "\n",
       "    .dataframe thead th {\n",
       "        text-align: right;\n",
       "    }\n",
       "</style>\n",
       "<table border=\"1\" class=\"dataframe\">\n",
       "  <thead>\n",
       "    <tr style=\"text-align: right;\">\n",
       "      <th></th>\n",
       "      <th>sepal_length</th>\n",
       "      <th>sepal_width</th>\n",
       "      <th>petal_length</th>\n",
       "      <th>petal_width</th>\n",
       "      <th>species</th>\n",
       "    </tr>\n",
       "  </thead>\n",
       "  <tbody>\n",
       "    <tr>\n",
       "      <th>0</th>\n",
       "      <td>4.9</td>\n",
       "      <td>3.0</td>\n",
       "      <td>1.4</td>\n",
       "      <td>0.2</td>\n",
       "      <td>Iris-setosa</td>\n",
       "    </tr>\n",
       "    <tr>\n",
       "      <th>1</th>\n",
       "      <td>4.7</td>\n",
       "      <td>3.2</td>\n",
       "      <td>1.3</td>\n",
       "      <td>0.2</td>\n",
       "      <td>Iris-setosa</td>\n",
       "    </tr>\n",
       "    <tr>\n",
       "      <th>2</th>\n",
       "      <td>4.6</td>\n",
       "      <td>3.1</td>\n",
       "      <td>1.5</td>\n",
       "      <td>0.2</td>\n",
       "      <td>Iris-setosa</td>\n",
       "    </tr>\n",
       "    <tr>\n",
       "      <th>3</th>\n",
       "      <td>5.0</td>\n",
       "      <td>3.6</td>\n",
       "      <td>1.4</td>\n",
       "      <td>0.2</td>\n",
       "      <td>Iris-setosa</td>\n",
       "    </tr>\n",
       "    <tr>\n",
       "      <th>4</th>\n",
       "      <td>5.4</td>\n",
       "      <td>3.9</td>\n",
       "      <td>1.7</td>\n",
       "      <td>0.4</td>\n",
       "      <td>Iris-setosa</td>\n",
       "    </tr>\n",
       "  </tbody>\n",
       "</table>\n",
       "</div>"
      ],
      "text/plain": [
       "   sepal_length  sepal_width  petal_length  petal_width      species\n",
       "0           4.9          3.0           1.4          0.2  Iris-setosa\n",
       "1           4.7          3.2           1.3          0.2  Iris-setosa\n",
       "2           4.6          3.1           1.5          0.2  Iris-setosa\n",
       "3           5.0          3.6           1.4          0.2  Iris-setosa\n",
       "4           5.4          3.9           1.7          0.4  Iris-setosa"
      ]
     },
     "execution_count": 2,
     "metadata": {},
     "output_type": "execute_result"
    }
   ],
   "source": [
    "df = pd.read_csv(\"IRIS_Training.csv\", sep=\";\")\n",
    "df['species'] = df['species'].astype(\"category\")\n",
    "df.head()"
   ]
  },
  {
   "cell_type": "markdown",
   "metadata": {},
   "source": [
    "We can see that this dataset contains features of flowers. We check the information fo the data set to see if we have null values."
   ]
  },
  {
   "cell_type": "code",
   "execution_count": 3,
   "metadata": {},
   "outputs": [
    {
     "name": "stdout",
     "output_type": "stream",
     "text": [
      "<class 'pandas.core.frame.DataFrame'>\n",
      "RangeIndex: 90 entries, 0 to 89\n",
      "Data columns (total 5 columns):\n",
      " #   Column        Non-Null Count  Dtype   \n",
      "---  ------        --------------  -----   \n",
      " 0   sepal_length  90 non-null     float64 \n",
      " 1   sepal_width   90 non-null     float64 \n",
      " 2   petal_length  90 non-null     float64 \n",
      " 3   petal_width   90 non-null     float64 \n",
      " 4   species       90 non-null     category\n",
      "dtypes: category(1), float64(4)\n",
      "memory usage: 3.1 KB\n"
     ]
    }
   ],
   "source": [
    "df.info()"
   ]
  },
  {
   "cell_type": "markdown",
   "metadata": {},
   "source": [
    "As we see (RangeIndex) we have 90 rows and each column has 90 non-null values so we have a clean data set."
   ]
  },
  {
   "cell_type": "code",
   "execution_count": 4,
   "metadata": {},
   "outputs": [
    {
     "data": {
      "image/png": "[encoded data removed]",
      "text/plain": [
       "<Figure size 432x288 with 1 Axes>"
      ]
     },
     "metadata": {
      "needs_background": "light"
     },
     "output_type": "display_data"
    }
   ],
   "source": [
    "df['species'].value_counts().plot(kind='bar', grid=False, title=\"Distribution of samples based on specie\")\n",
    "plt.show()"
   ]
  },
  {
   "cell_type": "code",
   "execution_count": 5,
   "metadata": {},
   "outputs": [
    {
     "data": {
      "text/plain": [
       "species\n",
       "Iris-setosa        49\n",
       "Iris-versicolor    41\n",
       "dtype: int64"
      ]
     },
     "execution_count": 5,
     "metadata": {},
     "output_type": "execute_result"
    }
   ],
   "source": [
    "df.groupby(\"species\").size()"
   ]
  },
  {
   "cell_type": "markdown",
   "metadata": {},
   "source": [
    "We see that we have 49 samples of Iris-setosa and 41 of Iris-versicolor.\n",
    "\n",
    "Now that we know the data set we can start the task, first we need to extract the train data, that is all the features of our flowers (all the columns of the data frame except the `species` one)."
   ]
  },
  {
   "cell_type": "code",
   "execution_count": 6,
   "metadata": {},
   "outputs": [
    {
     "data": {
      "text/plain": [
       "(90, 4)"
      ]
     },
     "execution_count": 6,
     "metadata": {},
     "output_type": "execute_result"
    }
   ],
   "source": [
    "X_train = df[df.columns[:-1]]\n",
    "X = X_train.to_numpy(dtype=\"float32\")\n",
    "X.shape"
   ]
  },
  {
   "cell_type": "markdown",
   "metadata": {},
   "source": [
    "As we can see 90 flowers to train each one with 4 features."
   ]
  },
  {
   "cell_type": "code",
   "execution_count": 7,
   "metadata": {},
   "outputs": [],
   "source": [
    "outcome = df[df.columns[-1]]\n",
    "Y_train = outcome == \"Iris-setosa\"\n",
    "Y_train = Y_train.astype(\"int\")\n",
    "Y_train[Y_train==0] = -1\n",
    "Y = np.array(Y_train)"
   ]
  },
  {
   "cell_type": "markdown",
   "metadata": {},
   "source": [
    "Now we have an array `X` with shape (90,4) containing the features of the 90 flowers and an array `Y` with shape (90,1) full of 1 if the corresponding flower is Iris-setosa, and -1 if the flower is Iris-versicolor."
   ]
  },
  {
   "cell_type": "markdown",
   "metadata": {},
   "source": [
    "## Solution\n",
    "As seen in class the goal of this homework is to classify two types of flowers. To do so we have to find a hyperplane that divide the space in two regions, one for the _Iris-setosa_ and the other for the _Iris-versicolor_. To do so we have to sole the following optimization problem:\n",
    "\n",
    "$$\n",
    "\\text{minimize} \\;\\;\\; \\|\\omega\\|_2\n",
    "$$\n",
    "$$\n",
    "\\text{s.t.}\\;\\;\\; y_i(\\omega^\\top x_i+b)\\geq 1,\n",
    "$$\n",
    "\n",
    "where $\\omega$ is the normal vector to the hyperplane, $b$ is the coordinate at the origin, $x_i$ is a vector in $\\mathbb{R}^4$ containing the characteristics of one flower and $y_i$ is either 1 or -1, depending on the type of flower. The problem is completely equivalent to \n",
    "\n",
    "$$\n",
    "\\text{minimize} \\;\\;\\; \\frac{1}{2}\\|\\omega\\|_2^2\n",
    "$$\n",
    "$$\n",
    "\\text{s.t.}\\;\\;\\; 1-y_i(\\omega^\\top x_i+b)\\leq 0,\n",
    "$$\n",
    "\n",
    "because $\\|\\omega\\|_2$ and $\\|\\omega\\|^2_2$ share the point where they achieve the minimum. This is a problem that we know how to solve because using a barrier method we can convert it into an unconstrained problem. We are going to use the logarithmic barrier and the problem becomes\n",
    "\n",
    "$$\n",
    "\\text{minimize} \\;\\;\\; f(\\omega,b) = \\frac{1}{2}\\|\\omega\\|_2^2 - \\left(\\frac{1}{t}\\right)\\sum_{i=1}^n \\log\\left[y_i(\\omega^\\top x_i+b) -1\\right],\n",
    "$$\n",
    "\n",
    "where $n$ is the number of samples, in our case 90. Now our problem with inequality constraints has become one without any constraint, and we have to minimize this function with respect to the parameters $\\omega\\in\\mathbb{R}^4$ and $b\\in\\mathbb{R}$. To do so we implement two methods:\n",
    "1. Gradient descend,\n",
    "2. Newton method.\n",
    "\n",
    "For both methods we need to compute the gradient of our function. In our case the gradient is $\\nabla\\to\\left(\\nabla_\\omega,\\partial_b\\right)$\n",
    "\n",
    "$$\n",
    "\\nabla_\\omega f(\\omega,b) = \\omega - \\left(\\frac{1}{t}\\right)\\sum_{i=1}^n \\frac{y_ix_i}{y_i(\\omega^\\top x_i+b) -1}\n",
    "$$\n",
    "$$\n",
    "\\partial_b f(\\omega,b) = - \\left(\\frac{1}{t}\\right)\\sum_{i=1}^n \\frac{y_i}{y_i(\\omega^\\top x_i+b) -1}. \n",
    "$$\n",
    "As we can see $\\nabla_\\omega f(\\omega,b)$ is a vector because of the factor $x_i$ in the numerator, and $\\partial_b f(\\omega,b)$ is a scalar because $y_i$ is a scalar. \n",
    "\n",
    "For the Newton method we also need the Hessian matrix so based on the book Convex Optimization by Stephen Boyd and Lieven Vandenberghe we see that the Hessian of our the logarithmic barrier has two terms.\n",
    "$$\n",
    " \\nabla^2 \\phi(x) =\\sum_{i=1}^m \\frac{1}{f_i(x)^2} \\nabla f_i(x) \\nabla f_i(x)^T+\\sum_{i=1}^m \\frac{1}{-f_i(x)} \\nabla^2 f_i(x),\n",
    "$$\n",
    "\n",
    "but in our case the variable is $x = (\\omega,b)$ and our function $-f_i(\\omega,b) = y_i(\\omega^\\top x_i+b) -1$. First we compute the gradient of $f_i(\\omega,b)$.\n",
    "\n",
    "$$\n",
    "\\nabla f_i(\\omega,b) = (\\nabla_\\omega, \\partial_b)f_i = (y_i x_i, y_i),\n",
    "$$\n",
    "that is a vector in this case of size $5\\times 1$. To compute the second part of the Hessian we need to calculate the Hessian of $f_i$, but note that the gradient we have computed above doesn't depend on any of the variables $(\\omega,b)$ so the Hessian is 0. The final form of the Hessian matrix is:\n",
    "$$\n",
    "\\nabla^2 f(\\omega,b) = \\mathbb{I} - \\left(\\frac{1}{t}\\right) \\sum_{i=1}^n \\frac{1}{\\left[y_i(\\omega^\\top x_i+b) -1\\right]^2}\\begin{pmatrix} y_i x_i \\\\ y_i \\end{pmatrix} \\begin{pmatrix} y_i x_i & y_i \\end{pmatrix}.\n",
    "$$\n",
    "\n",
    "\n"
   ]
  },
  {
   "cell_type": "markdown",
   "metadata": {},
   "source": [
    "## Code\n",
    "First we define a function to compute the value $f(\\omega,b)$, then the gradient of that function and lastly, the Hessian.\n",
    "All this functions are vectorized in order to avoid loops.\n"
   ]
  },
  {
   "cell_type": "code",
   "execution_count": 8,
   "metadata": {},
   "outputs": [],
   "source": [
    "def f(point, mu, y_vector, X):\n",
    "    \"\"\"The function to minimize. To compute the value of the function\n",
    "    we define some matrices to avoid for loops.\n",
    "\n",
    "    Args:\n",
    "        point: is an array in which the first element is b\n",
    "            and the rest are vector w.\n",
    "        mu: the parameter that multiplies the logarithmic barrier,\n",
    "            1/t in the formula.\n",
    "        y_vector: is the array containing all the values of y_i.\n",
    "        X: is the matrix with all the samples features, note that\n",
    "            the shape of this array is (4,90) so is the transpose of the\n",
    "            one we get from the dataframe.\n",
    "    \"\"\"\n",
    "    assert point.shape == (5,), \"Incorrect size of point. The size must be 5\"\n",
    "\n",
    "    b = point[0]\n",
    "    w = point[1:]\n",
    "    n = X.shape[1]\n",
    "\n",
    "    # We create some matrices to compute the function f without explicit summations\n",
    "    one = np.ones(shape=(n,))\n",
    "    w_matrix = np.tile(w, (n, 1)).T  # Is a matrix whose columns are the vector w\n",
    "    b_vector = np.full_like(y_vector, fill_value=b)\n",
    "\n",
    "    return 0.5 * w.T @ w - mu * one.T @ np.log(\n",
    "        y_vector * ((w_matrix * X).sum(0) + b_vector) - one\n",
    "    )  #       this is equivalent to np.diag(W.T.dot(X))\n",
    "\n",
    "\n",
    "def gradient(point, mu, y_vector, X):\n",
    "    \"\"\"The gradient of the function to minimize. We create it in two parts\n",
    "    first the gradient with respect to omega, and second the partial\n",
    "    derivative with respect to b. To compute both we define some matrices so\n",
    "    we don't have to use loops and the program runs faster.\n",
    "\n",
    "    Args:\n",
    "        point: is an array in which the first element is b\n",
    "            and the rest are vector w.\n",
    "        mu: the parameter that multiplies the logarithmic barrier,\n",
    "            1/t in the formula.\n",
    "        y_vector: is the array containing all the values of y_i.\n",
    "        X: is the matrix with all the samples features, note that\n",
    "            the shape of this array is (4,90) so is the transpose of the\n",
    "            one we get from the dataframe.\n",
    "    \"\"\"\n",
    "    b = point[0]\n",
    "    w = point[1:]\n",
    "    n = X.shape[1]\n",
    "\n",
    "    # We create some matrices to compute the function f without explicit summations\n",
    "    one = np.ones(shape=(n,))\n",
    "    w_matrix = np.tile(w, (n, 1)).T  # Is a matrix whose columns are the vector w\n",
    "    b_vector = np.full_like(y_vector, fill_value=b)\n",
    "    denom = y_vector * ((w_matrix * X).sum(0) + b_vector) - one\n",
    "\n",
    "    grad_w = w - mu * np.sum((y_vector * X) / denom, axis=1)\n",
    "    grad_b = -mu * np.sum(y_vector / denom)\n",
    "    return np.concatenate((grad_w, grad_b), axis=None)\n",
    "\n",
    "\n",
    "def hessian(point, mu, y_vector, X):\n",
    "    \"\"\"The function that returns the Hessian of our function.\n",
    "    We define some matrices to achieve a vectorized code and for\n",
    "    efficiency.\n",
    "\n",
    "    Args:\n",
    "        point (_type_): is an array in which the first element is b\n",
    "            and the rest are vector w.\n",
    "        mu (_type_): the parameter that multiplies the logarithmic barrier,\n",
    "            1/t in the formula.\n",
    "        y_vector (_type_): is the array containing all the values of y_i.\n",
    "        X (_type_): is the matrix with all the samples features, note that\n",
    "            the shape of this array is (4,90) so is the transpose of the\n",
    "            one we get from the dataframe.\n",
    "    \"\"\"\n",
    "    b = point[0]\n",
    "    w = point[1:]\n",
    "    n = X.shape[1]\n",
    "\n",
    "    # We create some matrices to compute the function f without explicit summations\n",
    "    one = np.ones(shape=(n,))\n",
    "    w_matrix = np.tile(w, (n, 1)).T  # Is a matrix whose columns are the vector w\n",
    "    b_vector = np.full_like(y_vector, fill_value=b)\n",
    "    denom = y_vector * ((w_matrix * X).sum(0) + b_vector) - one\n",
    "\n",
    "    # First part of the hessian of the barrier\n",
    "    full_grad = np.vstack((y_vector * X, y_vector))  # Each column is (\\nabla f_i)\n",
    "\n",
    "    # Create a 3d array where each slice is a matrix corresponding to one term\n",
    "    # of the summation, we then sum the components of each slice to get the total\n",
    "    # value of summation\n",
    "    total = (\n",
    "        np.einsum(\"ij,ik->ijk\", full_grad.T, full_grad.T) / (denom[:, None, None] ** 2)\n",
    "    )\n",
    "    hess_1 = total.sum(axis=0)\n",
    "\n",
    "    # Second part of the Hessian of the barrier is 0\n",
    "\n",
    "    return np.identity(hess_1.shape[0]) - mu * hess_1"
   ]
  },
  {
   "cell_type": "markdown",
   "metadata": {},
   "source": [
    "Now we define the two methods that we are going to use. First the gradient descend and second the Newton method"
   ]
  },
  {
   "cell_type": "code",
   "execution_count": 9,
   "metadata": {},
   "outputs": [],
   "source": [
    "def gradient_descend(x, mu, y_vector, X):\n",
    "    \"\"\"The gradient descend method\"\"\"\n",
    "    grad = gradient(x, mu, y_vector, X)\n",
    "    \n",
    "    for _ in range(10_000):\n",
    "        descend_direction = -grad\n",
    "        t = 0.0001\n",
    "        x = x + t * descend_direction\n",
    "        grad = gradient(x, mu, y_vector, X)\n",
    "\n",
    "    return x\n",
    "\n",
    "def newtons_method(x, mu, y_vector, X):\n",
    "    \"\"\"Implementation of the newton method\"\"\"\n",
    "\n",
    "    grad = gradient(x, mu, y_vector, X)\n",
    "\n",
    "    for _ in range(1000):\n",
    "        descend_direction = npl.solve(-hessian(x, mu, y_vector, X), grad)\n",
    "        t = 0.0001\n",
    "        x = x + t * descend_direction\n",
    "        grad = gradient(x, mu, y_vector, X)\n",
    "\n",
    "    return x"
   ]
  },
  {
   "cell_type": "markdown",
   "metadata": {},
   "source": [
    "To get our starting feasible point we choose two elements of the data set, one for the Iris-setosa and another from the Iris-versicolor. The easiest way of doing this is to take the first element $p$ and last element $q$ of the data set. As a starting vector we take the vector from one point to the other, $p-q$ and as a starting $b$, because we have the initial vector $\\omega$ we need to solve a typical problem: having the normal vector of a plane, find the equation of the plane that past through the point $r$. In our case this point $r$ is the middle point between $p$ and $q$."
   ]
  },
  {
   "cell_type": "code",
   "execution_count": 10,
   "metadata": {},
   "outputs": [],
   "source": [
    "p = X[0]\n",
    "q = X[-1]\n",
    "\n",
    "w_0 = p - q\n",
    "x_feasible = (p + q)/2\n",
    "b = - w_0.T@x_feasible\n",
    "# In code the vector is (b,\\omega) in stead of (\\omega,b) as in the theory\n",
    "point_0 = np.append(b, w_0)"
   ]
  },
  {
   "cell_type": "markdown",
   "metadata": {},
   "source": [
    "With this initial point we can apply the two methods and predict the output of the classification data set. We first define a function that will tell us which flowers are present in the training set."
   ]
  },
  {
   "cell_type": "code",
   "execution_count": 11,
   "metadata": {},
   "outputs": [],
   "source": [
    "df_test = pd.read_csv(\"IRIS_classification.csv\", sep=\";\")\n",
    "X_test = df_test.to_numpy()\n",
    "\n",
    "def classify(point, X):\n",
    "    \"\"\"This function classify a data set into two classes\n",
    "\n",
    "    Args:\n",
    "        point: _description_\n",
    "        X: the data to classify. It must have the same number\n",
    "            of rows as the length of w, in this case 4.\n",
    "    \"\"\"\n",
    "    w = point[1:]\n",
    "    assert len(w) == X.shape[0], \"Dimensions don't agree, you should put X_test.T\"\n",
    "    b = point[0]\n",
    "    nf = X.shape[1]\n",
    "    \n",
    "    w_matrix = np.tile(w, (nf, 1)).T\n",
    "    b_vector = np.full(nf, fill_value=b)\n",
    "    pred = np.sign((w_matrix * X).sum(0) + b_vector)\n",
    "    \n",
    "    df = pd.DataFrame(data=pred, index=range(nf), columns=['Prediction'])\n",
    "    df['species'] = np.where(df['Prediction'] == 1, \"Iris-setosa\", \"Iris-versicolor\" )\n",
    "    return df\n",
    "    \n"
   ]
  },
  {
   "cell_type": "markdown",
   "metadata": {},
   "source": [
    "We apply the both methods with $\\mu=0.01$ and see the "
   ]
  },
  {
   "cell_type": "code",
   "execution_count": 12,
   "metadata": {},
   "outputs": [
    {
     "data": {
      "text/html": [
       "<div>\n",
       "<style scoped>\n",
       "    .dataframe tbody tr th:only-of-type {\n",
       "        vertical-align: middle;\n",
       "    }\n",
       "\n",
       "    .dataframe tbody tr th {\n",
       "        vertical-align: top;\n",
       "    }\n",
       "\n",
       "    .dataframe thead th {\n",
       "        text-align: right;\n",
       "    }\n",
       "</style>\n",
       "<table border=\"1\" class=\"dataframe\">\n",
       "  <thead>\n",
       "    <tr style=\"text-align: right;\">\n",
       "      <th></th>\n",
       "      <th>Prediction</th>\n",
       "      <th>species</th>\n",
       "    </tr>\n",
       "  </thead>\n",
       "  <tbody>\n",
       "    <tr>\n",
       "      <th>0</th>\n",
       "      <td>1.0</td>\n",
       "      <td>Iris-setosa</td>\n",
       "    </tr>\n",
       "    <tr>\n",
       "      <th>1</th>\n",
       "      <td>-1.0</td>\n",
       "      <td>Iris-versicolor</td>\n",
       "    </tr>\n",
       "    <tr>\n",
       "      <th>2</th>\n",
       "      <td>-1.0</td>\n",
       "      <td>Iris-versicolor</td>\n",
       "    </tr>\n",
       "    <tr>\n",
       "      <th>3</th>\n",
       "      <td>-1.0</td>\n",
       "      <td>Iris-versicolor</td>\n",
       "    </tr>\n",
       "    <tr>\n",
       "      <th>4</th>\n",
       "      <td>-1.0</td>\n",
       "      <td>Iris-versicolor</td>\n",
       "    </tr>\n",
       "    <tr>\n",
       "      <th>5</th>\n",
       "      <td>-1.0</td>\n",
       "      <td>Iris-versicolor</td>\n",
       "    </tr>\n",
       "    <tr>\n",
       "      <th>6</th>\n",
       "      <td>-1.0</td>\n",
       "      <td>Iris-versicolor</td>\n",
       "    </tr>\n",
       "    <tr>\n",
       "      <th>7</th>\n",
       "      <td>-1.0</td>\n",
       "      <td>Iris-versicolor</td>\n",
       "    </tr>\n",
       "    <tr>\n",
       "      <th>8</th>\n",
       "      <td>-1.0</td>\n",
       "      <td>Iris-versicolor</td>\n",
       "    </tr>\n",
       "    <tr>\n",
       "      <th>9</th>\n",
       "      <td>-1.0</td>\n",
       "      <td>Iris-versicolor</td>\n",
       "    </tr>\n",
       "  </tbody>\n",
       "</table>\n",
       "</div>"
      ],
      "text/plain": [
       "   Prediction          species\n",
       "0         1.0      Iris-setosa\n",
       "1        -1.0  Iris-versicolor\n",
       "2        -1.0  Iris-versicolor\n",
       "3        -1.0  Iris-versicolor\n",
       "4        -1.0  Iris-versicolor\n",
       "5        -1.0  Iris-versicolor\n",
       "6        -1.0  Iris-versicolor\n",
       "7        -1.0  Iris-versicolor\n",
       "8        -1.0  Iris-versicolor\n",
       "9        -1.0  Iris-versicolor"
      ]
     },
     "execution_count": 12,
     "metadata": {},
     "output_type": "execute_result"
    }
   ],
   "source": [
    "point_newt = newtons_method(point_0, 0.01, Y, X.T)\n",
    "predictions = classify(point_newt, X_test.T)\n",
    "predictions"
   ]
  },
  {
   "cell_type": "code",
   "execution_count": 13,
   "metadata": {},
   "outputs": [
    {
     "data": {
      "text/html": [
       "<div>\n",
       "<style scoped>\n",
       "    .dataframe tbody tr th:only-of-type {\n",
       "        vertical-align: middle;\n",
       "    }\n",
       "\n",
       "    .dataframe tbody tr th {\n",
       "        vertical-align: top;\n",
       "    }\n",
       "\n",
       "    .dataframe thead th {\n",
       "        text-align: right;\n",
       "    }\n",
       "</style>\n",
       "<table border=\"1\" class=\"dataframe\">\n",
       "  <thead>\n",
       "    <tr style=\"text-align: right;\">\n",
       "      <th></th>\n",
       "      <th>Prediction</th>\n",
       "      <th>species</th>\n",
       "    </tr>\n",
       "  </thead>\n",
       "  <tbody>\n",
       "    <tr>\n",
       "      <th>0</th>\n",
       "      <td>1.0</td>\n",
       "      <td>Iris-setosa</td>\n",
       "    </tr>\n",
       "    <tr>\n",
       "      <th>1</th>\n",
       "      <td>-1.0</td>\n",
       "      <td>Iris-versicolor</td>\n",
       "    </tr>\n",
       "    <tr>\n",
       "      <th>2</th>\n",
       "      <td>-1.0</td>\n",
       "      <td>Iris-versicolor</td>\n",
       "    </tr>\n",
       "    <tr>\n",
       "      <th>3</th>\n",
       "      <td>-1.0</td>\n",
       "      <td>Iris-versicolor</td>\n",
       "    </tr>\n",
       "    <tr>\n",
       "      <th>4</th>\n",
       "      <td>-1.0</td>\n",
       "      <td>Iris-versicolor</td>\n",
       "    </tr>\n",
       "    <tr>\n",
       "      <th>5</th>\n",
       "      <td>-1.0</td>\n",
       "      <td>Iris-versicolor</td>\n",
       "    </tr>\n",
       "    <tr>\n",
       "      <th>6</th>\n",
       "      <td>-1.0</td>\n",
       "      <td>Iris-versicolor</td>\n",
       "    </tr>\n",
       "    <tr>\n",
       "      <th>7</th>\n",
       "      <td>-1.0</td>\n",
       "      <td>Iris-versicolor</td>\n",
       "    </tr>\n",
       "    <tr>\n",
       "      <th>8</th>\n",
       "      <td>-1.0</td>\n",
       "      <td>Iris-versicolor</td>\n",
       "    </tr>\n",
       "    <tr>\n",
       "      <th>9</th>\n",
       "      <td>-1.0</td>\n",
       "      <td>Iris-versicolor</td>\n",
       "    </tr>\n",
       "  </tbody>\n",
       "</table>\n",
       "</div>"
      ],
      "text/plain": [
       "   Prediction          species\n",
       "0         1.0      Iris-setosa\n",
       "1        -1.0  Iris-versicolor\n",
       "2        -1.0  Iris-versicolor\n",
       "3        -1.0  Iris-versicolor\n",
       "4        -1.0  Iris-versicolor\n",
       "5        -1.0  Iris-versicolor\n",
       "6        -1.0  Iris-versicolor\n",
       "7        -1.0  Iris-versicolor\n",
       "8        -1.0  Iris-versicolor\n",
       "9        -1.0  Iris-versicolor"
      ]
     },
     "execution_count": 13,
     "metadata": {},
     "output_type": "execute_result"
    }
   ],
   "source": [
    "point_grad = gradient_descend(point_0, 0.01, Y, X.T)\n",
    "predictions = classify(point_grad, X_test.T)\n",
    "predictions"
   ]
  },
  {
   "cell_type": "markdown",
   "metadata": {},
   "source": [
    "As we can see both methods predict the same output, 1 Iris-setosa and 9 Iris-versicolor with makes sense because if we look at the training data we had 49 Iris-setosa and 41 Iris-versicolor so in total we have 50 from each."
   ]
  },
  {
   "cell_type": "markdown",
   "metadata": {},
   "source": [
    "## Barrier\n",
    "We also implement a barrier method that start with a \"big\" $\\mu=1/t$ and apply the Newton method with that parameter, we recover a point, make $\\mu$ smaller (increase $t$ in the theory) and repeat the method with starting point the point returned in the previous iteration. We repeat this process until $\\mu<stop/90$ where stop is the precision we want. We divided by 90 because that's the number of items in the training data."
   ]
  },
  {
   "cell_type": "code",
   "execution_count": 14,
   "metadata": {},
   "outputs": [
    {
     "data": {
      "text/html": [
       "<div>\n",
       "<style scoped>\n",
       "    .dataframe tbody tr th:only-of-type {\n",
       "        vertical-align: middle;\n",
       "    }\n",
       "\n",
       "    .dataframe tbody tr th {\n",
       "        vertical-align: top;\n",
       "    }\n",
       "\n",
       "    .dataframe thead th {\n",
       "        text-align: right;\n",
       "    }\n",
       "</style>\n",
       "<table border=\"1\" class=\"dataframe\">\n",
       "  <thead>\n",
       "    <tr style=\"text-align: right;\">\n",
       "      <th></th>\n",
       "      <th>Prediction</th>\n",
       "      <th>species</th>\n",
       "    </tr>\n",
       "  </thead>\n",
       "  <tbody>\n",
       "    <tr>\n",
       "      <th>0</th>\n",
       "      <td>1.0</td>\n",
       "      <td>Iris-setosa</td>\n",
       "    </tr>\n",
       "    <tr>\n",
       "      <th>1</th>\n",
       "      <td>-1.0</td>\n",
       "      <td>Iris-versicolor</td>\n",
       "    </tr>\n",
       "    <tr>\n",
       "      <th>2</th>\n",
       "      <td>-1.0</td>\n",
       "      <td>Iris-versicolor</td>\n",
       "    </tr>\n",
       "    <tr>\n",
       "      <th>3</th>\n",
       "      <td>-1.0</td>\n",
       "      <td>Iris-versicolor</td>\n",
       "    </tr>\n",
       "    <tr>\n",
       "      <th>4</th>\n",
       "      <td>-1.0</td>\n",
       "      <td>Iris-versicolor</td>\n",
       "    </tr>\n",
       "    <tr>\n",
       "      <th>5</th>\n",
       "      <td>-1.0</td>\n",
       "      <td>Iris-versicolor</td>\n",
       "    </tr>\n",
       "    <tr>\n",
       "      <th>6</th>\n",
       "      <td>-1.0</td>\n",
       "      <td>Iris-versicolor</td>\n",
       "    </tr>\n",
       "    <tr>\n",
       "      <th>7</th>\n",
       "      <td>-1.0</td>\n",
       "      <td>Iris-versicolor</td>\n",
       "    </tr>\n",
       "    <tr>\n",
       "      <th>8</th>\n",
       "      <td>-1.0</td>\n",
       "      <td>Iris-versicolor</td>\n",
       "    </tr>\n",
       "    <tr>\n",
       "      <th>9</th>\n",
       "      <td>-1.0</td>\n",
       "      <td>Iris-versicolor</td>\n",
       "    </tr>\n",
       "  </tbody>\n",
       "</table>\n",
       "</div>"
      ],
      "text/plain": [
       "   Prediction          species\n",
       "0         1.0      Iris-setosa\n",
       "1        -1.0  Iris-versicolor\n",
       "2        -1.0  Iris-versicolor\n",
       "3        -1.0  Iris-versicolor\n",
       "4        -1.0  Iris-versicolor\n",
       "5        -1.0  Iris-versicolor\n",
       "6        -1.0  Iris-versicolor\n",
       "7        -1.0  Iris-versicolor\n",
       "8        -1.0  Iris-versicolor\n",
       "9        -1.0  Iris-versicolor"
      ]
     },
     "execution_count": 14,
     "metadata": {},
     "output_type": "execute_result"
    }
   ],
   "source": [
    "def barrier(point_0, Y, X, stop):\n",
    "    \"\"\"We start with mu big enough so our function is differentiable \n",
    "    and we decrease the value of mu until a certain point\n",
    "    \"\"\"\n",
    "    mu = 1\n",
    "    factor = 0.2  # The factor we decrease mu at every step\n",
    "    point = point_0\n",
    "    while mu >= stop/90.0:\n",
    "        point = newtons_method(point, mu, Y, X.T)\n",
    "        mu *= factor\n",
    "    \n",
    "    return point, mu\n",
    "    \n",
    "hyperplane, t = barrier(point_0, Y, X, 10e-5)\n",
    "classify(hyperplane, X_test.T)"
   ]
  },
  {
   "cell_type": "markdown",
   "metadata": {},
   "source": [
    "As we can see the predictions are the same.\n",
    "\n",
    "One thing that we can do is see mathematically the hyperplane that we obtained with each method."
   ]
  },
  {
   "cell_type": "code",
   "execution_count": 15,
   "metadata": {},
   "outputs": [
    {
     "name": "stdout",
     "output_type": "stream",
     "text": [
      "Newton method: \n",
      " w1=-0.752\tw2=0.605\tw3=-2.923\tw4=-1.033\tb=11.289\n",
      "Gradient descend method: \n",
      " w1=-2.163\tw2=2.428\tw3=-2.141\tw4=-1.082\tb=12.150\n",
      "Newton with Barrier method: \n",
      " w1=-2.185\tw2=2.517\tw3=-2.205\tw4=-1.005\tb=12.166\n"
     ]
    }
   ],
   "source": [
    "def print_plane(hyperplane, method):\n",
    "    b = hyperplane[0]\n",
    "    w1, w2, w3, w4 = hyperplane[1:]\n",
    "    print(f\"{method} method: \\n {w1=:.3f}\\t{w2=:.3f}\\t{w3=:.3f}\\t{w4=:.3f}\\t{b=:.3f}\")\n",
    "\n",
    "print_plane(point_newt, \"Newton\")\n",
    "print_plane(point_grad, \"Gradient descend\")\n",
    "print_plane(hyperplane, \"Newton with Barrier\")"
   ]
  },
  {
   "cell_type": "markdown",
   "metadata": {},
   "source": [
    "As we can see the Newton method don't return the same hyperplane as the other two methods but still makes the right predictions. We also se that when we apply the Newton with a barrier method we obtain a hyperplane very similar to the one obtained with gradient descending. This leads us to believe that the best hyperplane must be very similar to the one returned by the last two methods But why does the Newton method produce the same prediction? This can be explain with the following picture.\n"
   ]
  },
  {
   "cell_type": "code",
   "execution_count": 16,
   "metadata": {},
   "outputs": [
    {
     "data": {
      "image/png": "[encoded data removed]",
      "text/plain": [
       "<Figure size 864x1224 with 12 Axes>"
      ]
     },
     "metadata": {
      "needs_background": "light"
     },
     "output_type": "display_data"
    }
   ],
   "source": [
    "def plots(df):\n",
    "    \"\"\"Plots all the combinations of features\n",
    "      of the set without repetition.\n",
    "\n",
    "    Args:\n",
    "        df: original data set\n",
    "    \"\"\"\n",
    "    fig, ax = plt.subplots(3,2, figsize=(12,17))\n",
    "    indices = [[[0,1,4],[0,2,4]],[[0,3,4],[1,2,4]],[[1,3,4],[2,3,4]]]\n",
    "    for i, ax_i in enumerate(ax):\n",
    "        for j, ax_ij in enumerate(ax_i):\n",
    "            df_aux = df.iloc[:,indices[i][j]]\n",
    "            df_aux.plot.scatter(df_aux.iloc[:,0].name, df_aux.iloc[:,1].name, c='species', ax=ax_ij, colormap='viridis')                        \n",
    "    plt.show()\n",
    "    \n",
    "plots(df)"
   ]
  },
  {
   "cell_type": "markdown",
   "metadata": {},
   "source": [
    "Here we are representing each feature of the 90 flowers, in yellow the Iris-versicolor and in purple the Iris-setosa. The information that we can extract from these plots is that the two classes have great separability, so with a good enough hyperplane we are going to get the correct predictions."
   ]
  }
 ],
 "metadata": {
  "kernelspec": {
   "display_name": "Python 3 (ipykernel)",
   "language": "python",
   "name": "python3"
  },
  "language_info": {
   "codemirror_mode": {
    "name": "ipython",
    "version": 3
   },
   "file_extension": ".py",
   "mimetype": "text/x-python",
   "name": "python",
   "nbconvert_exporter": "python",
   "pygments_lexer": "ipython3",
   "version": "3.10.6"
  }
 },
 "nbformat": 4,
 "nbformat_minor": 2
}
