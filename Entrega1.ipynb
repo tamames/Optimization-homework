{
 "cells": [
  {
   "cell_type": "markdown",
   "metadata": {},
   "source": [
    "# Homework 1\n",
    "Consider the unconstrained problem\n",
    "$$\n",
    "\\min\\left\\{100(x_2-x_1)^2+(1-x_1)^2\\right\\}\n",
    "$$\n",
    "whose exact minimum is at $x^∗ = (1, 1)$. Find an estimate of $x^∗$ using:\n",
    "* a gradient method,\n",
    "* a Newton's method,\n",
    "* a conjugate direction method.\n",
    "\n",
    "In all cases use $x_0=(2,5)$ as starting point, backtracking line search with $\\alpha=0.25$ and $\\beta=0.5$, and $\\|\\nabla f(x_k)\\|<10^{-5}$ as a stopping criterium. How many iterations have you used to find the estimate of $x^∗$ with these methods?"
   ]
  },
  {
   "cell_type": "code",
   "execution_count": 2,
   "metadata": {},
   "outputs": [],
   "source": [
    "def f(x: tuple[float,float]) -> float:\n",
    "    \"\"\"The function that we want to minimize\"\"\"\n",
    "    assert len(x) == 2, \"Size doesn't match, the size must be 2.\"\n",
    "    return 100*(x[1]-x[0])**2 + (1-x[0])**2\n",
    "\n",
    "\n",
    "def gradient(x: tuple[float, float]) -> tuple[float, float]:\n",
    "    \"\"\"Returns the value of the gradient at the given point\"\"\"\n",
    "    assert len(x) == 2, \"Size doesn't match, the size must be 2.\"\n",
    "    return -2*(1-x[0]) - 200*(x[1]-x[0]), 200*(x[1]-x[0])\n"
   ]
  },
  {
   "cell_type": "code",
   "execution_count": 4,
   "metadata": {},
   "outputs": [
    {
     "name": "stdout",
     "output_type": "stream",
     "text": [
      "101\n"
     ]
    }
   ],
   "source": [
    "print(f((2,3)))\n",
    "print(gradient((2,3)))"
   ]
  }
 ],
 "metadata": {
  "kernelspec": {
   "display_name": "Python 3 (ipykernel)",
   "language": "python",
   "name": "python3"
  },
  "language_info": {
   "codemirror_mode": {
    "name": "ipython",
    "version": 3
   },
   "file_extension": ".py",
   "mimetype": "text/x-python",
   "name": "python",
   "nbconvert_exporter": "python",
   "pygments_lexer": "ipython3",
   "version": "3.10.6"
  },
  "vscode": {
   "interpreter": {
    "hash": "2acbbc62b63727f51b412b81f44665fa10e0f4ef373d646d67463d6fac66285f"
   }
  }
 },
 "nbformat": 4,
 "nbformat_minor": 2
}
